{
 "cells": [
  {
   "cell_type": "code",
   "execution_count": 19,
   "id": "c3783514-5b24-4957-b50d-04a3b862f8eb",
   "metadata": {},
   "outputs": [],
   "source": [
    "import torch"
   ]
  },
  {
   "cell_type": "code",
   "execution_count": 5,
   "id": "88de90bb-291e-4b7b-9e21-1fbd5a0c576f",
   "metadata": {},
   "outputs": [
    {
     "name": "stdout",
     "output_type": "stream",
     "text": [
      "['\\n', ' ', '!', '\"', '#', '&', \"'\", '*', ',', '-', '.', '/', '0', '1', '2', '3', '4', '5', '6', '7', '8', '9', ':', ';', '=', '?', 'A', 'B', 'C', 'D', 'E', 'F', 'G', 'H', 'I', 'J', 'K', 'L', 'M', 'N', 'O', 'P', 'Q', 'R', 'S', 'T', 'U', 'V', 'W', 'Y', 'Z', '[', ']', '_', 'a', 'b', 'c', 'd', 'e', 'f', 'g', 'h', 'i', 'j', 'k', 'l', 'm', 'n', 'o', 'p', 'q', 'r', 's', 't', 'u', 'v', 'w', 'x', 'y', 'z', '\\ufeff']\n"
     ]
    }
   ],
   "source": [
    "with open('wizard_of_oz.txt', 'r', encoding='utf-8') as f:\n",
    "    text = f.read()\n",
    "\n",
    "chars = sorted(set(text))\n",
    "print(chars)"
   ]
  },
  {
   "cell_type": "code",
   "execution_count": 22,
   "id": "9a690c60-078d-4697-8de3-4effb3b15ef7",
   "metadata": {},
   "outputs": [
    {
     "name": "stdout",
     "output_type": "stream",
     "text": [
      "mnopy\n",
      "[66, 68, 61, 65, 62, 78, 58, 73]\n"
     ]
    }
   ],
   "source": [
    "string_to_int = {ch:i for i,ch in enumerate(chars)}\n",
    "int_to_string = {i:ch for i,ch in enumerate(chars)}\n",
    "\n",
    "encode = lambda s: [string_to_int[c] for c in s]\n",
    "decode = lambda l: ''.join([int_to_string[i] for i in l])\n",
    "\n",
    "print(decode([66,67,68,69,78]))\n",
    "print(encode(\"mohliyet\"))"
   ]
  },
  {
   "cell_type": "code",
   "execution_count": 26,
   "id": "dac0bcc1-2d66-4631-b08a-e28205d53eb3",
   "metadata": {},
   "outputs": [
    {
     "name": "stdout",
     "output_type": "stream",
     "text": [
      "﻿The Tin Woodman of Oz\n",
      "\n",
      "\n",
      "Author: L. Frank Baum\n",
      "\n",
      "Illustrator: John R. Neill\n",
      "\n",
      "Release date: January 4,\n",
      "tensor([80, 45, 61, 58,  1, 45, 62, 67,  1, 48, 68, 68, 57, 66, 54, 67,  1, 68,\n",
      "        59,  1, 40, 79,  0,  0,  0, 26, 74, 73, 61, 68, 71, 22,  1, 37, 10,  1,\n",
      "        31, 71, 54, 67, 64,  1, 27, 54, 74, 66,  0,  0, 34, 65, 65, 74, 72, 73,\n",
      "        71, 54, 73, 68, 71, 22,  1, 35, 68, 61, 67,  1, 43, 10,  1, 39, 58, 62,\n",
      "        65, 65,  0,  0, 43, 58, 65, 58, 54, 72, 58,  1, 57, 54, 73, 58, 22,  1,\n",
      "        35, 54, 67, 74, 54, 71, 78,  1, 16,  8])\n"
     ]
    }
   ],
   "source": [
    "data = torch.tensor(encode(text), dtype=torch.long)\n",
    "print(text[:100])\n",
    "print(data[:100])"
   ]
  },
  {
   "cell_type": "code",
   "execution_count": 28,
   "id": "168a8ee1-1963-4b2f-825f-63812124bf56",
   "metadata": {},
   "outputs": [
    {
     "data": {
      "text/plain": [
       "[tensor([80, 45, 61,  ..., 65, 78, 56]),\n",
       " tensor([61, 71, 68,  ...,  0,  0,  0])]"
      ]
     },
     "execution_count": 28,
     "metadata": {},
     "output_type": "execute_result"
    }
   ],
   "source": [
    "n = int(0.8*len(data))\n",
    "train_data = data[:n]\n",
    "val_data = data[n:]\n",
    "[train_data, val_data]"
   ]
  },
  {
   "cell_type": "code",
   "execution_count": 29,
   "id": "210f6235-b46c-461a-8bf0-3f3016252f33",
   "metadata": {},
   "outputs": [
    {
     "name": "stdout",
     "output_type": "stream",
     "text": [
      "when input is tensor([80]) target is tensor(45)\n",
      "when input is tensor([80, 45]) target is tensor(61)\n",
      "when input is tensor([80, 45, 61]) target is tensor(58)\n",
      "when input is tensor([80, 45, 61, 58]) target is tensor(1)\n",
      "when input is tensor([80, 45, 61, 58,  1]) target is tensor(45)\n",
      "when input is tensor([80, 45, 61, 58,  1, 45]) target is tensor(62)\n",
      "when input is tensor([80, 45, 61, 58,  1, 45, 62]) target is tensor(67)\n",
      "when input is tensor([80, 45, 61, 58,  1, 45, 62, 67]) target is tensor(1)\n"
     ]
    }
   ],
   "source": [
    "block_size = 8\n",
    "x = train_data[:block_size]\n",
    "y = train_data[1:block_size+1]\n",
    "\n",
    "for t in range(block_size):\n",
    "    context = x[:t+1]\n",
    "    target = y[t]\n",
    "    print('when input is', context, 'target is', target)"
   ]
  },
  {
   "cell_type": "code",
   "execution_count": 32,
   "id": "6f3149b7-8087-4b94-abcb-e6f1c72c0f7d",
   "metadata": {},
   "outputs": [
    {
     "data": {
      "text/plain": [
       "'NVIDIA GeForce GTX 1050 with Max-Q Design'"
      ]
     },
     "execution_count": 32,
     "metadata": {},
     "output_type": "execute_result"
    }
   ],
   "source": [
    "import torch\n",
    "device = 'cuda' if torch.cuda.is_available() else 'cpu'\n",
    "device_name = torch.cuda.get_device_name(0) if torch.cuda.is_available() else 'CPU'\n",
    "device_name"
   ]
  },
  {
   "cell_type": "code",
   "execution_count": 33,
   "id": "375dc316-d836-43ae-a4ea-15566941c4d7",
   "metadata": {},
   "outputs": [],
   "source": [
    "block_size = 8\n",
    "batch_size = 4"
   ]
  }
 ],
 "metadata": {
  "kernelspec": {
   "display_name": "llms_cuda",
   "language": "python",
   "name": "llms_cuda"
  },
  "language_info": {
   "codemirror_mode": {
    "name": "ipython",
    "version": 3
   },
   "file_extension": ".py",
   "mimetype": "text/x-python",
   "name": "python",
   "nbconvert_exporter": "python",
   "pygments_lexer": "ipython3",
   "version": "3.10.11"
  }
 },
 "nbformat": 4,
 "nbformat_minor": 5
}
