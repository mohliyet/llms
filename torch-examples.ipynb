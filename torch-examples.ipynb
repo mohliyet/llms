{
 "cells": [
  {
   "cell_type": "markdown",
   "id": "47f4c4e3-bc4d-4023-bc85-a016b07b114b",
   "metadata": {},
   "source": [
    "# Playing with torch "
   ]
  },
  {
   "cell_type": "code",
   "execution_count": 1,
   "id": "45265596-3e8a-408f-a622-5400a58786af",
   "metadata": {},
   "outputs": [],
   "source": [
    "import torch"
   ]
  },
  {
   "cell_type": "markdown",
   "id": "efecc695-8414-4064-964f-02be792d584b",
   "metadata": {},
   "source": [
    "## Random int tensors"
   ]
  },
  {
   "cell_type": "code",
   "execution_count": 9,
   "id": "89c969d8-486e-4672-9b86-cf0336864393",
   "metadata": {},
   "outputs": [
    {
     "data": {
      "text/plain": [
       "tensor([ 47, -82,  66, -39, -38,  87])"
      ]
     },
     "execution_count": 9,
     "metadata": {},
     "output_type": "execute_result"
    }
   ],
   "source": [
    "randint = torch.randint(-100,100,(6,))\n",
    "randint"
   ]
  },
  {
   "cell_type": "markdown",
   "id": "979435e5-8803-4094-b7ba-19e064930f02",
   "metadata": {},
   "source": [
    "## Nested tesnsors "
   ]
  },
  {
   "cell_type": "code",
   "execution_count": 12,
   "id": "3e447373-b8d0-4bb1-89f2-b6af6672ed9f",
   "metadata": {},
   "outputs": [
    {
     "data": {
      "text/plain": [
       "tensor([[0.1000, 0.2000],\n",
       "        [2.2000, 3.1000],\n",
       "        [4.9000, 5.2000]])"
      ]
     },
     "execution_count": 12,
     "metadata": {},
     "output_type": "execute_result"
    }
   ],
   "source": [
    "tensor = torch.tensor([[0.1,0.2],[2.2,3.1],[4.9,5.2]])\n",
    "tensor"
   ]
  },
  {
   "cell_type": "markdown",
   "id": "8fc277fb-09ce-43f1-94bc-2cf243232b8d",
   "metadata": {},
   "source": [
    "## Zeros"
   ]
  },
  {
   "cell_type": "code",
   "execution_count": 15,
   "id": "faa64a6b-3e92-4285-bb07-370b54613222",
   "metadata": {},
   "outputs": [
    {
     "data": {
      "text/plain": [
       "tensor([[0., 0., 0.],\n",
       "        [0., 0., 0.]])"
      ]
     },
     "execution_count": 15,
     "metadata": {},
     "output_type": "execute_result"
    }
   ],
   "source": [
    "zeros =torch.zeros(2,3)\n",
    "zeros"
   ]
  },
  {
   "cell_type": "markdown",
   "id": "d4ceeefa-b01d-4b0a-b245-a2b5511c8707",
   "metadata": {},
   "source": [
    "## Ones"
   ]
  },
  {
   "cell_type": "code",
   "execution_count": 17,
   "id": "3dd4351b-29f4-4639-8c8f-6c4a6a1d1b68",
   "metadata": {},
   "outputs": [
    {
     "data": {
      "text/plain": [
       "tensor([[1., 1., 1., 1., 1.],\n",
       "        [1., 1., 1., 1., 1.],\n",
       "        [1., 1., 1., 1., 1.],\n",
       "        [1., 1., 1., 1., 1.]])"
      ]
     },
     "execution_count": 17,
     "metadata": {},
     "output_type": "execute_result"
    }
   ],
   "source": [
    "ones = torch.ones(4,5)\n",
    "ones"
   ]
  },
  {
   "cell_type": "markdown",
   "id": "c142d03e-a3fe-4cab-a998-1bce48170788",
   "metadata": {},
   "source": [
    "## Empty tensor"
   ]
  },
  {
   "cell_type": "code",
   "execution_count": 18,
   "id": "67849d9a-1e3a-4b51-8040-7fbb7d417ef0",
   "metadata": {},
   "outputs": [
    {
     "data": {
      "text/plain": [
       "tensor([[0., 0., 0.],\n",
       "        [0., 0., 0.]])"
      ]
     },
     "execution_count": 18,
     "metadata": {},
     "output_type": "execute_result"
    }
   ],
   "source": [
    "input = torch.empty(2,3)\n",
    "input"
   ]
  },
  {
   "cell_type": "markdown",
   "id": "dd3ef54f-c22f-431a-91e7-96bc94309e0a",
   "metadata": {},
   "source": [
    "## Arrange"
   ]
  },
  {
   "cell_type": "code",
   "execution_count": 19,
   "id": "f300ff56-30fe-4a47-a282-f028af0d5bbb",
   "metadata": {},
   "outputs": [
    {
     "data": {
      "text/plain": [
       "tensor([0, 1, 2, 3, 4])"
      ]
     },
     "execution_count": 19,
     "metadata": {},
     "output_type": "execute_result"
    }
   ],
   "source": [
    "arange = torch.arange(5)\n",
    "arange"
   ]
  },
  {
   "cell_type": "markdown",
   "id": "e3c349f8-c206-4a83-8bc9-9ee58ee86f56",
   "metadata": {},
   "source": [
    "## Lincespace"
   ]
  },
  {
   "cell_type": "code",
   "execution_count": 21,
   "id": "19dc4aa7-647b-4b2f-8262-772d152c4c4c",
   "metadata": {},
   "outputs": [
    {
     "data": {
      "text/plain": [
       "tensor([2.0000, 2.7500, 3.5000, 4.2500, 5.0000])"
      ]
     },
     "execution_count": 21,
     "metadata": {},
     "output_type": "execute_result"
    }
   ],
   "source": [
    "linespace = torch.linspace(2,5,steps=5)\n",
    "linespace"
   ]
  },
  {
   "cell_type": "markdown",
   "id": "51c37cab-a86c-4606-a38d-59b6062ec89c",
   "metadata": {},
   "source": [
    "## Logspace "
   ]
  },
  {
   "cell_type": "code",
   "execution_count": 23,
   "id": "b317c116-00d6-4ee3-9192-3c131e41ee3b",
   "metadata": {},
   "outputs": [
    {
     "data": {
      "text/plain": [
       "tensor([1.0000e-10, 1.0000e-05, 1.0000e+00, 1.0000e+05, 1.0000e+10])"
      ]
     },
     "execution_count": 23,
     "metadata": {},
     "output_type": "execute_result"
    }
   ],
   "source": [
    "logspace = torch.logspace(-10,10,steps=5)\n",
    "logspace"
   ]
  },
  {
   "cell_type": "markdown",
   "id": "ac227971-9a90-4440-8a9e-adc812703211",
   "metadata": {},
   "source": [
    "## Identity matrix"
   ]
  },
  {
   "cell_type": "code",
   "execution_count": 24,
   "id": "2db61ad5-8709-4c73-abf4-5f7a077f809a",
   "metadata": {},
   "outputs": [
    {
     "data": {
      "text/plain": [
       "tensor([[1., 0., 0., 0., 0.],\n",
       "        [0., 1., 0., 0., 0.],\n",
       "        [0., 0., 1., 0., 0.],\n",
       "        [0., 0., 0., 1., 0.],\n",
       "        [0., 0., 0., 0., 1.]])"
      ]
     },
     "execution_count": 24,
     "metadata": {},
     "output_type": "execute_result"
    }
   ],
   "source": [
    "eye = torch.eye(5)\n",
    "eye"
   ]
  },
  {
   "cell_type": "markdown",
   "id": "b7d1ff5d-5bb1-4996-97af-aa4a864fd4dc",
   "metadata": {},
   "source": [
    "## Empty like "
   ]
  },
  {
   "cell_type": "code",
   "execution_count": 27,
   "id": "7d53fcca-d9a6-4087-98f3-3d909e5b0ea6",
   "metadata": {},
   "outputs": [
    {
     "data": {
      "text/plain": [
       "tensor([[0, 0, 0],\n",
       "        [0, 0, 0]])"
      ]
     },
     "execution_count": 27,
     "metadata": {},
     "output_type": "execute_result"
    }
   ],
   "source": [
    "a= torch.empty((2,3),dtype=torch.int64)\n",
    "empty_like = torch.empty_like(a)\n",
    "empty_like"
   ]
  }
 ],
 "metadata": {
  "kernelspec": {
   "display_name": "llms_cuda",
   "language": "python",
   "name": "llms_cuda"
  },
  "language_info": {
   "codemirror_mode": {
    "name": "ipython",
    "version": 3
   },
   "file_extension": ".py",
   "mimetype": "text/x-python",
   "name": "python",
   "nbconvert_exporter": "python",
   "pygments_lexer": "ipython3",
   "version": "3.10.11"
  }
 },
 "nbformat": 4,
 "nbformat_minor": 5
}
