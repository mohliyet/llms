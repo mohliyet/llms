{
 "cells": [
  {
   "cell_type": "code",
   "execution_count": 1,
   "id": "a71e5584-0283-4512-beed-1db68d806ae5",
   "metadata": {},
   "outputs": [],
   "source": [
    "import torch"
   ]
  },
  {
   "cell_type": "markdown",
   "id": "672fb48b-1f0c-4bad-9c7a-0376ce74add7",
   "metadata": {},
   "source": [
    "## probability index"
   ]
  },
  {
   "cell_type": "code",
   "execution_count": 10,
   "id": "3c8e33c2-d412-471a-b27e-d98628fc5a86",
   "metadata": {},
   "outputs": [
    {
     "data": {
      "text/plain": [
       "tensor([0, 1, 1, 1, 1, 1, 1, 1, 0, 1])"
      ]
     },
     "execution_count": 10,
     "metadata": {},
     "output_type": "execute_result"
    }
   ],
   "source": [
    "# Probablity defination tensor\n",
    "probablities = torch.tensor([0.1,0.9])\n",
    "\n",
    "samples = torch.multinomial(probablities, num_samples=10, replacement=True)\n",
    "samples"
   ]
  },
  {
   "cell_type": "markdown",
   "id": "c2cd463c-f8c9-4593-96cf-c3246bc0b4ca",
   "metadata": {},
   "source": [
    "## concatination "
   ]
  },
  {
   "cell_type": "code",
   "execution_count": 16,
   "id": "9ed9c166-faa1-4aee-8132-0871ed3cac92",
   "metadata": {},
   "outputs": [
    {
     "data": {
      "text/plain": [
       "tensor([1, 2, 3, 4, 6])"
      ]
     },
     "execution_count": 16,
     "metadata": {},
     "output_type": "execute_result"
    }
   ],
   "source": [
    "tensor = torch.tensor([1,2,3,4])\n",
    "out = torch.cat((tensor,torch.tensor([6])),dim=0)\n",
    "out"
   ]
  },
  {
   "cell_type": "markdown",
   "id": "a4be8f73-55d5-4285-ab55-c80a7b57537b",
   "metadata": {},
   "source": [
    "## triangle lower"
   ]
  },
  {
   "cell_type": "code",
   "execution_count": 19,
   "id": "8777aeb0-935f-44d3-81d7-6bde8ae2f7c3",
   "metadata": {},
   "outputs": [
    {
     "data": {
      "text/plain": [
       "tensor([[1., 0., 0., 0., 0.],\n",
       "        [1., 1., 0., 0., 0.],\n",
       "        [1., 1., 1., 0., 0.],\n",
       "        [1., 1., 1., 1., 0.],\n",
       "        [1., 1., 1., 1., 1.]])"
      ]
     },
     "execution_count": 19,
     "metadata": {},
     "output_type": "execute_result"
    }
   ],
   "source": [
    "out = torch.tril(torch.ones(5,5))\n",
    "out"
   ]
  },
  {
   "cell_type": "markdown",
   "id": "b445179a-46e3-4a4b-af63-8cd0d16c3026",
   "metadata": {},
   "source": [
    "triangle upper"
   ]
  },
  {
   "cell_type": "code",
   "execution_count": 20,
   "id": "fe8dd264-92d0-4b9c-9b69-ddff4c2d006b",
   "metadata": {},
   "outputs": [
    {
     "data": {
      "text/plain": [
       "tensor([[1., 1., 1., 1., 1.],\n",
       "        [0., 1., 1., 1., 1.],\n",
       "        [0., 0., 1., 1., 1.],\n",
       "        [0., 0., 0., 1., 1.],\n",
       "        [0., 0., 0., 0., 1.]])"
      ]
     },
     "execution_count": 20,
     "metadata": {},
     "output_type": "execute_result"
    }
   ],
   "source": [
    "out = torch.triu(torch.ones(5,5))\n",
    "out"
   ]
  },
  {
   "cell_type": "markdown",
   "id": "332cbad2-edeb-4d56-b5ff-e7ba3693d282",
   "metadata": {},
   "source": [
    "## Exponentiating "
   ]
  },
  {
   "cell_type": "code",
   "execution_count": 22,
   "id": "f4549bb3-4671-45c7-94e2-e3abeb2c9275",
   "metadata": {},
   "outputs": [
    {
     "data": {
      "text/plain": [
       "tensor([[0., -inf, -inf, -inf, -inf],\n",
       "        [0., 0., -inf, -inf, -inf],\n",
       "        [0., 0., 0., -inf, -inf],\n",
       "        [0., 0., 0., 0., -inf],\n",
       "        [0., 0., 0., 0., 0.]])"
      ]
     },
     "execution_count": 22,
     "metadata": {},
     "output_type": "execute_result"
    }
   ],
   "source": [
    "out = torch.zeros(5,5).masked_fill(torch.tril(torch.ones(5,5)) == 0, float('-inf'))\n",
    "out"
   ]
  },
  {
   "cell_type": "code",
   "execution_count": 23,
   "id": "ae88b0ad-768a-4e24-a332-843b7dd247a9",
   "metadata": {},
   "outputs": [
    {
     "data": {
      "text/plain": [
       "tensor([[1., 0., 0., 0., 0.],\n",
       "        [1., 1., 0., 0., 0.],\n",
       "        [1., 1., 1., 0., 0.],\n",
       "        [1., 1., 1., 1., 0.],\n",
       "        [1., 1., 1., 1., 1.]])"
      ]
     },
     "execution_count": 23,
     "metadata": {},
     "output_type": "execute_result"
    }
   ],
   "source": [
    "torch.exp(out)"
   ]
  },
  {
   "cell_type": "markdown",
   "id": "5e692c6e-b2ff-4173-9a5d-bd40dfa4d35e",
   "metadata": {},
   "source": [
    "## transposing "
   ]
  },
  {
   "cell_type": "code",
   "execution_count": 26,
   "id": "77bc7523-3c06-4d88-acc0-2189e5791d15",
   "metadata": {},
   "outputs": [
    {
     "data": {
      "text/plain": [
       "torch.Size([4, 3, 2])"
      ]
     },
     "execution_count": 26,
     "metadata": {},
     "output_type": "execute_result"
    }
   ],
   "source": [
    "input=torch.zeros(2,3,4)\n",
    "out = input.transpose(0,2)\n",
    "out.shape"
   ]
  },
  {
   "cell_type": "markdown",
   "id": "d43affe1-0ffb-4d78-b168-a90dbcedc863",
   "metadata": {},
   "source": [
    "## stacking"
   ]
  },
  {
   "cell_type": "code",
   "execution_count": 27,
   "id": "839436b0-066d-4a9e-805f-7ca43b019002",
   "metadata": {},
   "outputs": [
    {
     "data": {
      "text/plain": [
       "tensor([[1, 2, 3],\n",
       "        [4, 5, 6],\n",
       "        [7, 8, 9]])"
      ]
     },
     "execution_count": 27,
     "metadata": {},
     "output_type": "execute_result"
    }
   ],
   "source": [
    "tensor1 = torch.tensor([1,2,3])\n",
    "tensor2 = torch.tensor([4,5,6])\n",
    "tensor3 = torch.tensor([7,8,9])\n",
    "\n",
    "stacked_tensor = torch.stack([tensor1,tensor2,tensor3])\n",
    "stacked_tensor"
   ]
  },
  {
   "cell_type": "code",
   "execution_count": 58,
   "id": "b6170deb-ef16-4c93-99a0-8f98da3a737f",
   "metadata": {},
   "outputs": [
    {
     "data": {
      "text/plain": [
       "tensor([  4.8984, -13.4002,  -2.8542], grad_fn=<SqueezeBackward4>)"
      ]
     },
     "execution_count": 58,
     "metadata": {},
     "output_type": "execute_result"
    }
   ],
   "source": [
    "import torch.nn as nn\n",
    "sample = torch.tensor([10.,10.,10.])\n",
    "linear = nn.Linear(3,3,bias=False)\n",
    "linear(sample)"
   ]
  },
  {
   "cell_type": "markdown",
   "id": "a5be1c2f-d3ec-42fe-9d12-836e0d553336",
   "metadata": {},
   "source": [
    "## softmax\n"
   ]
  },
  {
   "cell_type": "code",
   "execution_count": 69,
   "id": "a7f0ddb7-3979-420e-8bbe-bae0438bbd54",
   "metadata": {},
   "outputs": [
    {
     "data": {
      "text/plain": [
       "tensor([0.0900, 0.2447, 0.6652])"
      ]
     },
     "execution_count": 69,
     "metadata": {},
     "output_type": "execute_result"
    }
   ],
   "source": [
    "import torch.nn.functional as F\n",
    "tensor1 = torch.tensor([1.,2.,3.])\n",
    "softmax_output = F.softmax(tensor1,dim=0)\n",
    "softmax_output"
   ]
  }
 ],
 "metadata": {
  "kernelspec": {
   "display_name": "llms_cuda",
   "language": "python",
   "name": "llms_cuda"
  },
  "language_info": {
   "codemirror_mode": {
    "name": "ipython",
    "version": 3
   },
   "file_extension": ".py",
   "mimetype": "text/x-python",
   "name": "python",
   "nbconvert_exporter": "python",
   "pygments_lexer": "ipython3",
   "version": "3.10.11"
  }
 },
 "nbformat": 4,
 "nbformat_minor": 5
}
